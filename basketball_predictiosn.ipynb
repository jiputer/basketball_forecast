{
 "cells": [
  {
   "cell_type": "code",
   "execution_count": null,
   "metadata": {},
   "outputs": [],
   "source": [
    "import numpy as np\n",
    "import pandas as pd\n",
    "from sklearn.model_selection import train_test_split, cross_val_score, StratifiedKFold\n",
    "from sklearn.preprocessing import StandardScaler\n",
    "from sklearn.ensemble import RandomForestClassifier, VotingClassifier\n",
    "from sklearn.linear_model import LogisticRegression\n",
    "from xgboost import XGBClassifier\n",
    "from sklearn.metrics import brier_score_loss, log_loss, roc_auc_score\n",
    "\n",
    "\n",
    "# some of our imports here."
   ]
  },
  {
   "cell_type": "code",
   "execution_count": null,
   "metadata": {},
   "outputs": [],
   "source": [
    "df = pd.read_csv(\"data.csv\") \n",
    "y = df['target']  \n",
    "X = df.drop(columns=['target'])  \n",
    "\n",
    "scaler = StandardScaler()\n",
    "X_scaled = scaler.fit_transform(X)\n",
    "\n",
    "X_train, X_test, y_train, y_test = train_test_split(X_scaled, y, test_size=0.2, stratify=y, random_state=42)"
   ]
  },
  {
   "cell_type": "code",
   "execution_count": null,
   "metadata": {},
   "outputs": [],
   "source": [
    "\n",
    "log_reg = LogisticRegression(solver='liblinear')\n",
    "random_forest = RandomForestClassifier(n_estimators=100, random_state=42)\n",
    "xgb = XGBClassifier(use_label_encoder=False, eval_metric='logloss', random_state=42)\n",
    "\n",
    "\n",
    "\n",
    "ensemble_model = VotingClassifier(\n",
    "    estimators=[('lr', log_reg), ('rf', random_forest), ('xgb', xgb)],\n",
    "    voting='soft'  \n",
    ")\n",
    "\n",
    "cv = StratifiedKFold(n_splits=5, shuffle=True, random_state=42)\n",
    "\n",
    "# Train and evaluate models\n",
    "models = {'Logistic Regression': log_reg, 'Random Forest': random_forest, 'XGBoost': xgb, 'Ensemble': ensemble_model}\n",
    "results = {}\n",
    "\n",
    "for name, model in models.items():\n",
    "    model.fit(X_train, y_train)\n",
    "    y_pred_proba = model.predict_proba(X_test)[:, 1]\n",
    "    \n",
    "    brier = brier_score_loss(y_test, y_pred_proba)\n",
    "    logloss = log_loss(y_test, y_pred_proba)\n",
    "    auc_roc = roc_auc_score(y_test, y_pred_proba)\n",
    "    \n",
    "    cv_brier = -np.mean(cross_val_score(model, X_train, y_train, cv=cv, scoring='neg_brier_score'))\n",
    "    \n",
    "    results[name] = {'Brier Score': brier, 'Log Loss': logloss, 'AUC-ROC': auc_roc, 'CV Brier Score': cv_brier}\n",
    "\n",
    "results_df = pd.DataFrame(results).T\n",
    "import ace_tools as tools\n",
    "\n",
    "tools.display_dataframe_to_user(name=\"Model Evaluation Results\", dataframe=results_df)\n"
   ]
  }
 ],
 "metadata": {
  "kernelspec": {
   "display_name": "Python 3",
   "language": "python",
   "name": "python3"
  },
  "language_info": {
   "name": "python",
   "version": "3.10.0"
  }
 },
 "nbformat": 4,
 "nbformat_minor": 2
}
